{
 "cells": [
  {
   "cell_type": "markdown",
   "id": "09d67475",
   "metadata": {},
   "source": [
    "# Assignment - 2, Gurram Manoj Reddy, 1st question"
   ]
  },
  {
   "cell_type": "code",
   "execution_count": 8,
   "id": "0d7dfcc6",
   "metadata": {},
   "outputs": [
    {
     "name": "stdout",
     "output_type": "stream",
     "text": [
      "tf.Tensor(1.0, shape=(), dtype=float32)\n",
      "tf.Tensor(0.9950042, shape=(), dtype=float32)\n",
      "tf.Tensor(0.9800666, shape=(), dtype=float32)\n",
      "tf.Tensor(0.9553365, shape=(), dtype=float32)\n"
     ]
    }
   ],
   "source": [
    "import tensorflow as tf\n",
    "Input1 = tf.Variable(0.)\n",
    "with tf.GradientTape() as tape:\n",
    "    value1=tf.sin(Input1)\n",
    "value1=tape.gradient(value1,Input1)\n",
    "print(value1)\n",
    "\n",
    "Input2 = tf.Variable(0.1)\n",
    "with tf.GradientTape() as tape:\n",
    "    value2=tf.sin(Input2)\n",
    "value2=tape.gradient(value2,Input2)\n",
    "print(value2)\n",
    "\n",
    "Input3 = tf.Variable(0.2)\n",
    "with tf.GradientTape() as tape:\n",
    "    value3=tf.sin(Input3)\n",
    "value3=tape.gradient(value3,Input3)\n",
    "print(value3)\n",
    "\n",
    "Input4 = tf.Variable(0.3)\n",
    "with tf.GradientTape() as tape:\n",
    "    value4=tf.sin(Input4)\n",
    "value4=tape.gradient(value4,Input4)\n",
    "print(value4)"
   ]
  },
  {
   "cell_type": "markdown",
   "id": "b86906b2",
   "metadata": {},
   "source": [
    "## The value of the Gradient of sin(x) when x=0 using gradient tape is 1.0\n",
    "## The value of the Gradient of sin(x) when x=0.1 using gradient tape is 0.9950042\n",
    "## The value of the Gradient of sin(x) when x=0.2 using gradient tape is 0.9800666\n",
    "## The value of the Gradient of sin(x) when x=0.3 using gradient tape is 0.9553365"
   ]
  }
 ],
 "metadata": {
  "kernelspec": {
   "display_name": "Python 3 (ipykernel)",
   "language": "python",
   "name": "python3"
  },
  "language_info": {
   "codemirror_mode": {
    "name": "ipython",
    "version": 3
   },
   "file_extension": ".py",
   "mimetype": "text/x-python",
   "name": "python",
   "nbconvert_exporter": "python",
   "pygments_lexer": "ipython3",
   "version": "3.9.7"
  }
 },
 "nbformat": 4,
 "nbformat_minor": 5
}
