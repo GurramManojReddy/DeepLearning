{
 "cells": [
  {
   "cell_type": "markdown",
   "id": "be2f53d4",
   "metadata": {},
   "source": [
    "# Deep Learning, Homework 1, Gurram Manoj Reddy"
   ]
  },
  {
   "cell_type": "markdown",
   "id": "f214d848",
   "metadata": {},
   "source": [
    "## 1) Varying the size of the first layer and recording their accuracies"
   ]
  },
  {
   "cell_type": "markdown",
   "id": "0f440293",
   "metadata": {},
   "source": [
    "### Loading the MNIST dataset from keras"
   ]
  },
  {
   "cell_type": "code",
   "execution_count": 1,
   "id": "cf8e788c",
   "metadata": {},
   "outputs": [],
   "source": [
    "from tensorflow.keras.datasets import mnist\n",
    "(train_images,train_labels),(test_images,test_labels)=mnist.load_data()"
   ]
  },
  {
   "cell_type": "code",
   "execution_count": 2,
   "id": "9d61b7a9",
   "metadata": {},
   "outputs": [
    {
     "data": {
      "text/plain": [
       "(60000, 28, 28)"
      ]
     },
     "execution_count": 2,
     "metadata": {},
     "output_type": "execute_result"
    }
   ],
   "source": [
    "train_images.shape"
   ]
  },
  {
   "cell_type": "code",
   "execution_count": 3,
   "id": "78d1d599",
   "metadata": {},
   "outputs": [
    {
     "data": {
      "text/plain": [
       "60000"
      ]
     },
     "execution_count": 3,
     "metadata": {},
     "output_type": "execute_result"
    }
   ],
   "source": [
    "len(train_labels)"
   ]
  },
  {
   "cell_type": "code",
   "execution_count": 4,
   "id": "fa8e4c61",
   "metadata": {},
   "outputs": [
    {
     "data": {
      "text/plain": [
       "array([5, 0, 4, ..., 5, 6, 8], dtype=uint8)"
      ]
     },
     "execution_count": 4,
     "metadata": {},
     "output_type": "execute_result"
    }
   ],
   "source": [
    "train_labels"
   ]
  },
  {
   "cell_type": "code",
   "execution_count": 5,
   "id": "9a66aa0f",
   "metadata": {},
   "outputs": [
    {
     "data": {
      "text/plain": [
       "(10000, 28, 28)"
      ]
     },
     "execution_count": 5,
     "metadata": {},
     "output_type": "execute_result"
    }
   ],
   "source": [
    "test_images.shape"
   ]
  },
  {
   "cell_type": "code",
   "execution_count": 6,
   "id": "a677d8ca",
   "metadata": {},
   "outputs": [
    {
     "data": {
      "text/plain": [
       "10000"
      ]
     },
     "execution_count": 6,
     "metadata": {},
     "output_type": "execute_result"
    }
   ],
   "source": [
    "len(test_labels)"
   ]
  },
  {
   "cell_type": "code",
   "execution_count": 7,
   "id": "24ce2900",
   "metadata": {},
   "outputs": [
    {
     "data": {
      "text/plain": [
       "array([7, 2, 1, ..., 4, 5, 6], dtype=uint8)"
      ]
     },
     "execution_count": 7,
     "metadata": {},
     "output_type": "execute_result"
    }
   ],
   "source": [
    "test_labels"
   ]
  },
  {
   "cell_type": "markdown",
   "id": "1bdeb0ef",
   "metadata": {},
   "source": [
    "### Creating a 6*2 matrix which will store the accuracies and their input layer sizes"
   ]
  },
  {
   "cell_type": "code",
   "execution_count": 8,
   "id": "8ebf05ef",
   "metadata": {},
   "outputs": [
    {
     "name": "stdout",
     "output_type": "stream",
     "text": [
      "[[ 16.   0.]\n",
      " [ 32.   0.]\n",
      " [ 64.   0.]\n",
      " [128.   0.]\n",
      " [256.   0.]\n",
      " [512.   0.]]\n"
     ]
    }
   ],
   "source": [
    "import numpy as np\n",
    "Accuracy_matrix=np.zeros((6,2))\n",
    "Accuracy_matrix[0][0]=16\n",
    "Accuracy_matrix[1][0]=32\n",
    "Accuracy_matrix[2][0]=64\n",
    "Accuracy_matrix[3][0]=128\n",
    "Accuracy_matrix[4][0]=256\n",
    "Accuracy_matrix[5][0]=512\n",
    "print(Accuracy_matrix)"
   ]
  },
  {
   "cell_type": "markdown",
   "id": "c5535ea6",
   "metadata": {},
   "source": [
    "### Building 6 different models for 6 different Input Layer Sizes"
   ]
  },
  {
   "cell_type": "code",
   "execution_count": 9,
   "id": "67487c90",
   "metadata": {},
   "outputs": [],
   "source": [
    "from tensorflow import keras\n",
    "from tensorflow.keras import layers"
   ]
  },
  {
   "cell_type": "code",
   "execution_count": 10,
   "id": "d389e01c",
   "metadata": {},
   "outputs": [],
   "source": [
    "model1=keras.Sequential([\n",
    "    layers.Dense(16,activation=\"relu\"),\n",
    "    layers.Dense(10,activation=\"softmax\")\n",
    "])\n",
    "model2=keras.Sequential([\n",
    "    layers.Dense(32,activation=\"relu\"),\n",
    "    layers.Dense(10,activation=\"softmax\")\n",
    "])\n",
    "model3=keras.Sequential([\n",
    "    layers.Dense(64,activation=\"relu\"),\n",
    "    layers.Dense(10,activation=\"softmax\")\n",
    "])\n",
    "model4=keras.Sequential([\n",
    "    layers.Dense(128,activation=\"relu\"),\n",
    "    layers.Dense(10,activation=\"softmax\")\n",
    "])\n",
    "model5=keras.Sequential([\n",
    "    layers.Dense(256,activation=\"relu\"),\n",
    "    layers.Dense(10,activation=\"softmax\")\n",
    "])\n",
    "model6=keras.Sequential([\n",
    "    layers.Dense(512,activation=\"relu\"),\n",
    "    layers.Dense(10,activation=\"softmax\")\n",
    "])"
   ]
  },
  {
   "cell_type": "markdown",
   "id": "387d38c0",
   "metadata": {},
   "source": [
    "### Compiling the Networks"
   ]
  },
  {
   "cell_type": "code",
   "execution_count": 11,
   "id": "8229141e",
   "metadata": {},
   "outputs": [],
   "source": [
    "model1.compile(optimizer=\"rmsprop\",\n",
    "                 loss=\"sparse_categorical_crossentropy\",\n",
    "                 metrics=[\"accuracy\"])\n",
    "model2.compile(optimizer=\"rmsprop\",\n",
    "                 loss=\"sparse_categorical_crossentropy\",\n",
    "                 metrics=[\"accuracy\"])\n",
    "model3.compile(optimizer=\"rmsprop\",\n",
    "                 loss=\"sparse_categorical_crossentropy\",\n",
    "                 metrics=[\"accuracy\"])\n",
    "model4.compile(optimizer=\"rmsprop\",\n",
    "                 loss=\"sparse_categorical_crossentropy\",\n",
    "                 metrics=[\"accuracy\"])\n",
    "model5.compile(optimizer=\"rmsprop\",\n",
    "                 loss=\"sparse_categorical_crossentropy\",\n",
    "                 metrics=[\"accuracy\"])\n",
    "model6.compile(optimizer=\"rmsprop\",\n",
    "                 loss=\"sparse_categorical_crossentropy\",\n",
    "                 metrics=[\"accuracy\"])"
   ]
  },
  {
   "cell_type": "markdown",
   "id": "7c757eec",
   "metadata": {},
   "source": [
    "### Preparing the Image Data"
   ]
  },
  {
   "cell_type": "code",
   "execution_count": 12,
   "id": "3085072f",
   "metadata": {},
   "outputs": [],
   "source": [
    "train_images=train_images.reshape(60000,28*28)\n",
    "train_images=train_images.astype(\"float32\")/255\n",
    "test_images=test_images.reshape(10000,28*28)\n",
    "test_images=test_images.astype(\"float32\")/255"
   ]
  },
  {
   "cell_type": "markdown",
   "id": "75b6a73e",
   "metadata": {},
   "source": [
    "### Training the Networks"
   ]
  },
  {
   "cell_type": "code",
   "execution_count": 13,
   "id": "781cb7fa",
   "metadata": {},
   "outputs": [
    {
     "name": "stdout",
     "output_type": "stream",
     "text": [
      "Epoch 1/5\n",
      "469/469 [==============================] - 1s 1ms/step - loss: 0.5941 - accuracy: 0.8441\n",
      "Epoch 2/5\n",
      "469/469 [==============================] - 1s 1ms/step - loss: 0.2938 - accuracy: 0.9179\n",
      "Epoch 3/5\n",
      "469/469 [==============================] - 1s 1ms/step - loss: 0.2595 - accuracy: 0.9270\n",
      "Epoch 4/5\n",
      "469/469 [==============================] - 1s 1ms/step - loss: 0.2376 - accuracy: 0.9330\n",
      "Epoch 5/5\n",
      "469/469 [==============================] - 1s 1ms/step - loss: 0.2214 - accuracy: 0.9380\n",
      "Epoch 1/5\n",
      "469/469 [==============================] - 1s 1ms/step - loss: 0.4620 - accuracy: 0.8779\n",
      "Epoch 2/5\n",
      "469/469 [==============================] - 1s 1ms/step - loss: 0.2495 - accuracy: 0.9294\n",
      "Epoch 3/5\n",
      "469/469 [==============================] - 1s 1ms/step - loss: 0.2092 - accuracy: 0.9402\n",
      "Epoch 4/5\n",
      "469/469 [==============================] - 1s 1ms/step - loss: 0.1841 - accuracy: 0.9467\n",
      "Epoch 5/5\n",
      "469/469 [==============================] - 1s 1ms/step - loss: 0.1622 - accuracy: 0.9538\n",
      "Epoch 1/5\n",
      "469/469 [==============================] - 1s 2ms/step - loss: 0.4025 - accuracy: 0.8899\n",
      "Epoch 2/5\n",
      "469/469 [==============================] - 1s 2ms/step - loss: 0.2058 - accuracy: 0.9407\n",
      "Epoch 3/5\n",
      "469/469 [==============================] - 1s 2ms/step - loss: 0.1554 - accuracy: 0.9547\n",
      "Epoch 4/5\n",
      "469/469 [==============================] - 1s 2ms/step - loss: 0.1274 - accuracy: 0.9630\n",
      "Epoch 5/5\n",
      "469/469 [==============================] - 1s 2ms/step - loss: 0.1064 - accuracy: 0.9699\n",
      "Epoch 1/5\n",
      "469/469 [==============================] - 1s 2ms/step - loss: 0.3372 - accuracy: 0.9067\n",
      "Epoch 2/5\n",
      "469/469 [==============================] - 1s 2ms/step - loss: 0.1628 - accuracy: 0.9531\n",
      "Epoch 3/5\n",
      "469/469 [==============================] - 1s 2ms/step - loss: 0.1151 - accuracy: 0.9665\n",
      "Epoch 4/5\n",
      "469/469 [==============================] - 1s 2ms/step - loss: 0.0894 - accuracy: 0.9739\n",
      "Epoch 5/5\n",
      "469/469 [==============================] - 1s 2ms/step - loss: 0.0726 - accuracy: 0.9786\n",
      "Epoch 1/5\n",
      "469/469 [==============================] - 1s 2ms/step - loss: 0.2858 - accuracy: 0.9210\n",
      "Epoch 2/5\n",
      "469/469 [==============================] - 1s 2ms/step - loss: 0.1260 - accuracy: 0.9634\n",
      "Epoch 3/5\n",
      "469/469 [==============================] - 1s 2ms/step - loss: 0.0858 - accuracy: 0.9744\n",
      "Epoch 4/5\n",
      "469/469 [==============================] - 1s 2ms/step - loss: 0.0639 - accuracy: 0.9808\n",
      "Epoch 5/5\n",
      "469/469 [==============================] - 1s 2ms/step - loss: 0.0501 - accuracy: 0.9847\n",
      "Epoch 1/5\n",
      "469/469 [==============================] - 3s 6ms/step - loss: 0.2550 - accuracy: 0.9259\n",
      "Epoch 2/5\n",
      "469/469 [==============================] - 3s 6ms/step - loss: 0.1032 - accuracy: 0.9700\n",
      "Epoch 3/5\n",
      "469/469 [==============================] - 3s 6ms/step - loss: 0.0692 - accuracy: 0.9796\n",
      "Epoch 4/5\n",
      "469/469 [==============================] - 3s 6ms/step - loss: 0.0503 - accuracy: 0.9853\n",
      "Epoch 5/5\n",
      "469/469 [==============================] - 3s 6ms/step - loss: 0.0383 - accuracy: 0.9887\n"
     ]
    },
    {
     "data": {
      "text/plain": [
       "<keras.callbacks.History at 0x167ec1ae850>"
      ]
     },
     "execution_count": 13,
     "metadata": {},
     "output_type": "execute_result"
    }
   ],
   "source": [
    "model1.fit(train_images, train_labels, epochs=5, batch_size=128)\n",
    "model2.fit(train_images, train_labels, epochs=5, batch_size=128)\n",
    "model3.fit(train_images, train_labels, epochs=5, batch_size=128)\n",
    "model4.fit(train_images, train_labels, epochs=5, batch_size=128)\n",
    "model5.fit(train_images, train_labels, epochs=5, batch_size=128)\n",
    "model6.fit(train_images, train_labels, epochs=5, batch_size=128)"
   ]
  },
  {
   "cell_type": "markdown",
   "id": "c47a447d",
   "metadata": {},
   "source": [
    "### Testing the networks and Storing their accuracies in Accuracy_matrix"
   ]
  },
  {
   "cell_type": "code",
   "execution_count": 14,
   "id": "ff32b44b",
   "metadata": {},
   "outputs": [
    {
     "name": "stdout",
     "output_type": "stream",
     "text": [
      "313/313 [==============================] - 0s 881us/step - loss: 0.2233 - accuracy: 0.9349\n",
      "313/313 [==============================] - 0s 925us/step - loss: 0.1617 - accuracy: 0.9530\n",
      "313/313 [==============================] - 0s 956us/step - loss: 0.1174 - accuracy: 0.9649\n",
      "313/313 [==============================] - 0s 963us/step - loss: 0.0857 - accuracy: 0.9746\n",
      "313/313 [==============================] - 0s 1ms/step - loss: 0.0706 - accuracy: 0.9785\n",
      "313/313 [==============================] - 0s 1ms/step - loss: 0.0736 - accuracy: 0.9779\n",
      "[[ 16.           0.93489999]\n",
      " [ 32.           0.95300001]\n",
      " [ 64.           0.96490002]\n",
      " [128.           0.97460002]\n",
      " [256.           0.97850001]\n",
      " [512.           0.97790003]]\n"
     ]
    }
   ],
   "source": [
    "test_loss, test_acc = model1.evaluate(test_images, test_labels)\n",
    "Accuracy_matrix[0][1]=test_acc\n",
    "\n",
    "test_loss, test_acc = model2.evaluate(test_images, test_labels)\n",
    "Accuracy_matrix[1][1]=test_acc\n",
    "\n",
    "test_loss, test_acc = model3.evaluate(test_images, test_labels)\n",
    "Accuracy_matrix[2][1]=test_acc\n",
    "\n",
    "test_loss, test_acc = model4.evaluate(test_images, test_labels)\n",
    "Accuracy_matrix[3][1]=test_acc\n",
    "\n",
    "test_loss, test_acc = model5.evaluate(test_images, test_labels)\n",
    "Accuracy_matrix[4][1]=test_acc\n",
    "\n",
    "test_loss, test_acc = model6.evaluate(test_images, test_labels)\n",
    "Accuracy_matrix[5][1]=test_acc\n",
    "\n",
    "print(Accuracy_matrix)"
   ]
  },
  {
   "cell_type": "markdown",
   "id": "c444fc9a",
   "metadata": {},
   "source": [
    "### Plotting the Accuracies"
   ]
  },
  {
   "cell_type": "code",
   "execution_count": 15,
   "id": "f2726775",
   "metadata": {},
   "outputs": [
    {
     "name": "stdout",
     "output_type": "stream",
     "text": [
      "[16.0, 32.0, 64.0, 128.0, 256.0, 512.0]\n"
     ]
    },
    {
     "data": {
      "image/png": "[encoded data removed]",
      "text/plain": [
       "<Figure size 432x288 with 1 Axes>"
      ]
     },
     "metadata": {
      "needs_background": "light"
     },
     "output_type": "display_data"
    }
   ],
   "source": [
    "import matplotlib.pyplot as plt\n",
    "x_values = [row[0] for row in Accuracy_matrix]\n",
    "y_values = [row[1] for row in Accuracy_matrix*100]\n",
    "print(x_values)\n",
    "plt.plot(x_values,y_values,marker='o',linestyle='-')\n",
    "plt.xlabel(\"Input Layer Size\")\n",
    "plt.ylabel(\"Acuuracy in %\")\n",
    "plt.title(\"Accuracy Plot\")\n",
    "plt.show()"
   ]
  },
  {
   "cell_type": "markdown",
   "id": "69a54efa",
   "metadata": {},
   "source": [
    "## 2) Varying the number of layers in the given network and recording their accuracies"
   ]
  },
  {
   "cell_type": "markdown",
   "id": "a543008b",
   "metadata": {},
   "source": [
    "### Creating the Accuracy_matrix to store the acccuracies for different networks"
   ]
  },
  {
   "cell_type": "code",
   "execution_count": 16,
   "id": "7dc444a8",
   "metadata": {},
   "outputs": [
    {
     "name": "stdout",
     "output_type": "stream",
     "text": [
      "[[2. 0.]\n",
      " [3. 0.]\n",
      " [4. 0.]\n",
      " [5. 0.]]\n"
     ]
    }
   ],
   "source": [
    "# 1st Column contains the number of layers in the network and second column contains their accuracies.\n",
    "Accuracy_matrix=np.zeros((4,2))\n",
    "Accuracy_matrix[0][0]=2\n",
    "Accuracy_matrix[1][0]=3\n",
    "Accuracy_matrix[2][0]=4\n",
    "Accuracy_matrix[3][0]=5\n",
    "print(Accuracy_matrix)"
   ]
  },
  {
   "cell_type": "markdown",
   "id": "8288f943",
   "metadata": {},
   "source": [
    "### Building the Networks with different number of layers"
   ]
  },
  {
   "cell_type": "code",
   "execution_count": 17,
   "id": "b267d12a",
   "metadata": {},
   "outputs": [],
   "source": [
    "Model1=keras.Sequential([\n",
    "    layers.Dense(10,activation=\"relu\"),\n",
    "    layers.Dense(10,activation=\"softmax\")\n",
    "])\n",
    "Model2=keras.Sequential([\n",
    "    layers.Dense(512,activation=\"relu\"),\n",
    "    layers.Dense(512,activation=\"relu\"),\n",
    "    layers.Dense(10,activation=\"softmax\")\n",
    "])\n",
    "Model3=keras.Sequential([\n",
    "    layers.Dense(128,activation=\"relu\"),\n",
    "    layers.Dense(64,activation=\"relu\"),\n",
    "    layers.Dense(32,activation=\"relu\"),\n",
    "    layers.Dense(10,activation=\"softmax\")\n",
    "])\n",
    "Model4=keras.Sequential([\n",
    "    layers.Dense(512,activation=\"relu\"),\n",
    "    layers.Dense(256,activation=\"relu\"),\n",
    "    layers.Dense(128,activation=\"relu\"),\n",
    "    layers.Dense(64,activation=\"relu\"),\n",
    "    layers.Dense(10,activation=\"softmax\")\n",
    "])"
   ]
  },
  {
   "cell_type": "markdown",
   "id": "beb874b5",
   "metadata": {},
   "source": [
    "### Compiling the Networks"
   ]
  },
  {
   "cell_type": "code",
   "execution_count": 18,
   "id": "fec2ec29",
   "metadata": {},
   "outputs": [],
   "source": [
    "Model1.compile(optimizer=\"rmsprop\",\n",
    "                 loss=\"sparse_categorical_crossentropy\",\n",
    "                 metrics=[\"accuracy\"])\n",
    "Model2.compile(optimizer=\"rmsprop\",\n",
    "                 loss=\"sparse_categorical_crossentropy\",\n",
    "                 metrics=[\"accuracy\"])\n",
    "Model3.compile(optimizer=\"rmsprop\",\n",
    "                 loss=\"sparse_categorical_crossentropy\",\n",
    "                 metrics=[\"accuracy\"])\n",
    "Model4.compile(optimizer=\"rmsprop\",\n",
    "                 loss=\"sparse_categorical_crossentropy\",\n",
    "                 metrics=[\"accuracy\"])"
   ]
  },
  {
   "cell_type": "markdown",
   "id": "d6d4053b",
   "metadata": {},
   "source": [
    "### Training the Networks"
   ]
  },
  {
   "cell_type": "code",
   "execution_count": 19,
   "id": "9cbc121d",
   "metadata": {},
   "outputs": [
    {
     "name": "stdout",
     "output_type": "stream",
     "text": [
      "Epoch 1/5\n",
      "469/469 [==============================] - 1s 1ms/step - loss: 0.8015 - accuracy: 0.7670\n",
      "Epoch 2/5\n",
      "469/469 [==============================] - 1s 1ms/step - loss: 0.3560 - accuracy: 0.9000\n",
      "Epoch 3/5\n",
      "469/469 [==============================] - 1s 1ms/step - loss: 0.3053 - accuracy: 0.9130\n",
      "Epoch 4/5\n",
      "469/469 [==============================] - 1s 1ms/step - loss: 0.2835 - accuracy: 0.9195\n",
      "Epoch 5/5\n",
      "469/469 [==============================] - 1s 1ms/step - loss: 0.2708 - accuracy: 0.9233\n",
      "Epoch 1/5\n",
      "469/469 [==============================] - 5s 9ms/step - loss: 0.2227 - accuracy: 0.9305\n",
      "Epoch 2/5\n",
      "469/469 [==============================] - 4s 8ms/step - loss: 0.0830 - accuracy: 0.9745\n",
      "Epoch 3/5\n",
      "469/469 [==============================] - 4s 8ms/step - loss: 0.0538 - accuracy: 0.9833\n",
      "Epoch 4/5\n",
      "469/469 [==============================] - 4s 8ms/step - loss: 0.0384 - accuracy: 0.9880\n",
      "Epoch 5/5\n",
      "469/469 [==============================] - 4s 8ms/step - loss: 0.0289 - accuracy: 0.9913\n",
      "Epoch 1/5\n",
      "469/469 [==============================] - 1s 2ms/step - loss: 0.3419 - accuracy: 0.9007\n",
      "Epoch 2/5\n",
      "469/469 [==============================] - 1s 2ms/step - loss: 0.1426 - accuracy: 0.9568\n",
      "Epoch 3/5\n",
      "469/469 [==============================] - 1s 2ms/step - loss: 0.0989 - accuracy: 0.9697\n",
      "Epoch 4/5\n",
      "469/469 [==============================] - 1s 2ms/step - loss: 0.0764 - accuracy: 0.9764\n",
      "Epoch 5/5\n",
      "469/469 [==============================] - 1s 2ms/step - loss: 0.0616 - accuracy: 0.9811\n",
      "Epoch 1/5\n",
      "469/469 [==============================] - 4s 7ms/step - loss: 0.2646 - accuracy: 0.9188\n",
      "Epoch 2/5\n",
      "469/469 [==============================] - 3s 7ms/step - loss: 0.0932 - accuracy: 0.9719\n",
      "Epoch 3/5\n",
      "469/469 [==============================] - 3s 7ms/step - loss: 0.0645 - accuracy: 0.9808\n",
      "Epoch 4/5\n",
      "469/469 [==============================] - 3s 7ms/step - loss: 0.0478 - accuracy: 0.9857\n",
      "Epoch 5/5\n",
      "469/469 [==============================] - 3s 7ms/step - loss: 0.0370 - accuracy: 0.9890\n"
     ]
    },
    {
     "data": {
      "text/plain": [
       "<keras.callbacks.History at 0x167fa023e20>"
      ]
     },
     "execution_count": 19,
     "metadata": {},
     "output_type": "execute_result"
    }
   ],
   "source": [
    "Model1.fit(train_images, train_labels, epochs=5, batch_size=128)\n",
    "Model2.fit(train_images, train_labels, epochs=5, batch_size=128)\n",
    "Model3.fit(train_images, train_labels, epochs=5, batch_size=128)\n",
    "Model4.fit(train_images, train_labels, epochs=5, batch_size=128)"
   ]
  },
  {
   "cell_type": "markdown",
   "id": "f9c5d93b",
   "metadata": {},
   "source": [
    "### Testing the Networks and Storing their Accuracies"
   ]
  },
  {
   "cell_type": "code",
   "execution_count": 20,
   "id": "74589799",
   "metadata": {},
   "outputs": [
    {
     "name": "stdout",
     "output_type": "stream",
     "text": [
      "313/313 [==============================] - 1s 1ms/step - loss: 0.2676 - accuracy: 0.9250\n",
      "313/313 [==============================] - 1s 1ms/step - loss: 0.0648 - accuracy: 0.9832\n",
      "313/313 [==============================] - 0s 1ms/step - loss: 0.1013 - accuracy: 0.9702\n",
      "313/313 [==============================] - 1s 2ms/step - loss: 0.0843 - accuracy: 0.9807\n"
     ]
    }
   ],
   "source": [
    "test_loss, test_acc = Model1.evaluate(test_images, test_labels)\n",
    "Accuracy_matrix[0][1]=test_acc\n",
    "\n",
    "test_loss, test_acc = Model2.evaluate(test_images, test_labels)\n",
    "Accuracy_matrix[1][1]=test_acc\n",
    "\n",
    "test_loss, test_acc = Model3.evaluate(test_images, test_labels)\n",
    "Accuracy_matrix[2][1]=test_acc\n",
    "\n",
    "test_loss, test_acc = Model4.evaluate(test_images, test_labels)\n",
    "Accuracy_matrix[3][1]=test_acc"
   ]
  },
  {
   "cell_type": "markdown",
   "id": "0e06afa3",
   "metadata": {},
   "source": [
    "### Plotting the Graph"
   ]
  },
  {
   "cell_type": "code",
   "execution_count": 21,
   "id": "dd2db4b6",
   "metadata": {},
   "outputs": [
    {
     "name": "stdout",
     "output_type": "stream",
     "text": [
      "[2.0, 3.0, 4.0, 5.0]\n"
     ]
    },
    {
     "data": {
      "image/png": "[encoded data removed]",
      "text/plain": [
       "<Figure size 432x288 with 1 Axes>"
      ]
     },
     "metadata": {
      "needs_background": "light"
     },
     "output_type": "display_data"
    }
   ],
   "source": [
    "import matplotlib.pyplot as plt\n",
    "x_values = [row[0] for row in Accuracy_matrix]\n",
    "y_values = [row[1] for row in Accuracy_matrix*100]\n",
    "print(x_values)\n",
    "plt.plot(x_values,y_values,marker='o',linestyle='-')\n",
    "plt.xlabel(\"Number of layers\")\n",
    "plt.ylabel(\"Acuuracy in %\")\n",
    "plt.title(\"Accuracy Plot\")\n",
    "plt.show()"
   ]
  },
  {
   "cell_type": "markdown",
   "id": "83aa7695",
   "metadata": {},
   "source": [
    "#### Network with 2 layers have 10,10 neurons respectively\n",
    "\n",
    "#### Network with 3 layers have 512,512,10 neurons respectively\n",
    "\n",
    "#### Network with 4 layers have 128,64,32,10 neurons respectively\n",
    "\n",
    "#### Network with 5 layeers have 512,256,128,64,10 neurons respectively"
   ]
  },
  {
   "cell_type": "code",
   "execution_count": null,
   "id": "75898ca0",
   "metadata": {},
   "outputs": [],
   "source": []
  }
 ],
 "metadata": {
  "kernelspec": {
   "display_name": "Python 3 (ipykernel)",
   "language": "python",
   "name": "python3"
  },
  "language_info": {
   "codemirror_mode": {
    "name": "ipython",
    "version": 3
   },
   "file_extension": ".py",
   "mimetype": "text/x-python",
   "name": "python",
   "nbconvert_exporter": "python",
   "pygments_lexer": "ipython3",
   "version": "3.9.7"
  }
 },
 "nbformat": 4,
 "nbformat_minor": 5
}
