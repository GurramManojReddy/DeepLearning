{
 "cells": [
  {
   "cell_type": "markdown",
   "id": "ac0dcb83",
   "metadata": {},
   "source": [
    "# Assignment - 2, Gurram Manoj Reddy, 2nd question"
   ]
  },
  {
   "cell_type": "markdown",
   "id": "6eaf0cab",
   "metadata": {},
   "source": [
    "## Training the Model to find the number of epochs after which the model will overfit"
   ]
  },
  {
   "cell_type": "code",
   "execution_count": 1,
   "id": "9699f4e5",
   "metadata": {},
   "outputs": [
    {
     "data": {
      "text/plain": [
       "[1,\n",
       " 14,\n",
       " 22,\n",
       " 16,\n",
       " 43,\n",
       " 530,\n",
       " 973,\n",
       " 1622,\n",
       " 1385,\n",
       " 65,\n",
       " 458,\n",
       " 4468,\n",
       " 66,\n",
       " 3941,\n",
       " 4,\n",
       " 173,\n",
       " 36,\n",
       " 256,\n",
       " 5,\n",
       " 25,\n",
       " 100,\n",
       " 43,\n",
       " 838,\n",
       " 112,\n",
       " 50,\n",
       " 670,\n",
       " 2,\n",
       " 9,\n",
       " 35,\n",
       " 480,\n",
       " 284,\n",
       " 5,\n",
       " 150,\n",
       " 4,\n",
       " 172,\n",
       " 112,\n",
       " 167,\n",
       " 2,\n",
       " 336,\n",
       " 385,\n",
       " 39,\n",
       " 4,\n",
       " 172,\n",
       " 4536,\n",
       " 1111,\n",
       " 17,\n",
       " 546,\n",
       " 38,\n",
       " 13,\n",
       " 447,\n",
       " 4,\n",
       " 192,\n",
       " 50,\n",
       " 16,\n",
       " 6,\n",
       " 147,\n",
       " 2025,\n",
       " 19,\n",
       " 14,\n",
       " 22,\n",
       " 4,\n",
       " 1920,\n",
       " 4613,\n",
       " 469,\n",
       " 4,\n",
       " 22,\n",
       " 71,\n",
       " 87,\n",
       " 12,\n",
       " 16,\n",
       " 43,\n",
       " 530,\n",
       " 38,\n",
       " 76,\n",
       " 15,\n",
       " 13,\n",
       " 1247,\n",
       " 4,\n",
       " 22,\n",
       " 17,\n",
       " 515,\n",
       " 17,\n",
       " 12,\n",
       " 16,\n",
       " 626,\n",
       " 18,\n",
       " 2,\n",
       " 5,\n",
       " 62,\n",
       " 386,\n",
       " 12,\n",
       " 8,\n",
       " 316,\n",
       " 8,\n",
       " 106,\n",
       " 5,\n",
       " 4,\n",
       " 2223,\n",
       " 5244,\n",
       " 16,\n",
       " 480,\n",
       " 66,\n",
       " 3785,\n",
       " 33,\n",
       " 4,\n",
       " 130,\n",
       " 12,\n",
       " 16,\n",
       " 38,\n",
       " 619,\n",
       " 5,\n",
       " 25,\n",
       " 124,\n",
       " 51,\n",
       " 36,\n",
       " 135,\n",
       " 48,\n",
       " 25,\n",
       " 1415,\n",
       " 33,\n",
       " 6,\n",
       " 22,\n",
       " 12,\n",
       " 215,\n",
       " 28,\n",
       " 77,\n",
       " 52,\n",
       " 5,\n",
       " 14,\n",
       " 407,\n",
       " 16,\n",
       " 82,\n",
       " 2,\n",
       " 8,\n",
       " 4,\n",
       " 107,\n",
       " 117,\n",
       " 5952,\n",
       " 15,\n",
       " 256,\n",
       " 4,\n",
       " 2,\n",
       " 7,\n",
       " 3766,\n",
       " 5,\n",
       " 723,\n",
       " 36,\n",
       " 71,\n",
       " 43,\n",
       " 530,\n",
       " 476,\n",
       " 26,\n",
       " 400,\n",
       " 317,\n",
       " 46,\n",
       " 7,\n",
       " 4,\n",
       " 2,\n",
       " 1029,\n",
       " 13,\n",
       " 104,\n",
       " 88,\n",
       " 4,\n",
       " 381,\n",
       " 15,\n",
       " 297,\n",
       " 98,\n",
       " 32,\n",
       " 2071,\n",
       " 56,\n",
       " 26,\n",
       " 141,\n",
       " 6,\n",
       " 194,\n",
       " 7486,\n",
       " 18,\n",
       " 4,\n",
       " 226,\n",
       " 22,\n",
       " 21,\n",
       " 134,\n",
       " 476,\n",
       " 26,\n",
       " 480,\n",
       " 5,\n",
       " 144,\n",
       " 30,\n",
       " 5535,\n",
       " 18,\n",
       " 51,\n",
       " 36,\n",
       " 28,\n",
       " 224,\n",
       " 92,\n",
       " 25,\n",
       " 104,\n",
       " 4,\n",
       " 226,\n",
       " 65,\n",
       " 16,\n",
       " 38,\n",
       " 1334,\n",
       " 88,\n",
       " 12,\n",
       " 16,\n",
       " 283,\n",
       " 5,\n",
       " 16,\n",
       " 4472,\n",
       " 113,\n",
       " 103,\n",
       " 32,\n",
       " 15,\n",
       " 16,\n",
       " 5345,\n",
       " 19,\n",
       " 178,\n",
       " 32]"
      ]
     },
     "execution_count": 1,
     "metadata": {},
     "output_type": "execute_result"
    }
   ],
   "source": [
    "from tensorflow.keras.datasets import imdb\n",
    "(train_data,train_labels),(test_data,test_labels)=imdb.load_data(num_words=10000)\n",
    "train_data[0]"
   ]
  },
  {
   "cell_type": "code",
   "execution_count": 2,
   "id": "9aa54f6e",
   "metadata": {},
   "outputs": [
    {
     "data": {
      "text/plain": [
       "1"
      ]
     },
     "execution_count": 2,
     "metadata": {},
     "output_type": "execute_result"
    }
   ],
   "source": [
    "train_labels[0]"
   ]
  },
  {
   "cell_type": "code",
   "execution_count": 3,
   "id": "00fd55fd",
   "metadata": {},
   "outputs": [
    {
     "data": {
      "text/plain": [
       "9999"
      ]
     },
     "execution_count": 3,
     "metadata": {},
     "output_type": "execute_result"
    }
   ],
   "source": [
    "max([max(sequence) for sequence in train_data])"
   ]
  },
  {
   "cell_type": "code",
   "execution_count": 4,
   "id": "9ec3d8e2",
   "metadata": {},
   "outputs": [],
   "source": [
    "import numpy as np\n",
    "def vectorize_sequences(sequences, dimension=10000):\n",
    "    results = np.zeros((len(sequences),dimension))\n",
    "    for i, sequence in enumerate(sequences):\n",
    "        for j in sequence:\n",
    "            results[i,j]=1\n",
    "    return results\n",
    "x_train = vectorize_sequences(train_data)\n",
    "x_test = vectorize_sequences(test_data)"
   ]
  },
  {
   "cell_type": "code",
   "execution_count": 5,
   "id": "ac368cf8",
   "metadata": {},
   "outputs": [
    {
     "name": "stdout",
     "output_type": "stream",
     "text": [
      "[0. 1. 1. ... 0. 0. 0.]\n"
     ]
    }
   ],
   "source": [
    "print(x_train[0])"
   ]
  },
  {
   "cell_type": "code",
   "execution_count": 6,
   "id": "1c84ccd2",
   "metadata": {},
   "outputs": [],
   "source": [
    "y_train = np.asarray(train_labels).astype(\"float32\")\n",
    "y_test = np.asarray(test_labels).astype(\"float32\")"
   ]
  },
  {
   "cell_type": "code",
   "execution_count": 7,
   "id": "d1dc155a",
   "metadata": {},
   "outputs": [],
   "source": [
    "from tensorflow import keras\n",
    "from tensorflow.keras import layers\n",
    "model = keras.Sequential([\n",
    "    layers.Dense(16, activation = 'relu'),\n",
    "    layers.Dense(16, activation = 'relu'),\n",
    "    layers.Dense(1, activation = 'sigmoid')\n",
    "])"
   ]
  },
  {
   "cell_type": "code",
   "execution_count": 8,
   "id": "c44f96b4",
   "metadata": {},
   "outputs": [],
   "source": [
    "model.compile(optimizer = \"rmsprop\",\n",
    "              loss = \"binary_crossentropy\",\n",
    "              metrics = [\"accuracy\"])"
   ]
  },
  {
   "cell_type": "code",
   "execution_count": 9,
   "id": "3b6f9eb0",
   "metadata": {},
   "outputs": [],
   "source": [
    "x_val = x_train[:10000]\n",
    "partial_x_train = x_train[10000:]\n",
    "y_val = y_train[:10000]\n",
    "partial_y_train = y_train[10000:]"
   ]
  },
  {
   "cell_type": "code",
   "execution_count": 10,
   "id": "c447e23b",
   "metadata": {},
   "outputs": [
    {
     "name": "stdout",
     "output_type": "stream",
     "text": [
      "Epoch 1/20\n",
      "30/30 [==============================] - 1s 30ms/step - loss: 0.5340 - accuracy: 0.7746 - val_loss: 0.4195 - val_accuracy: 0.8506\n",
      "Epoch 2/20\n",
      "30/30 [==============================] - 0s 17ms/step - loss: 0.3349 - accuracy: 0.8936 - val_loss: 0.3196 - val_accuracy: 0.8854\n",
      "Epoch 3/20\n",
      "30/30 [==============================] - 1s 20ms/step - loss: 0.2418 - accuracy: 0.9243 - val_loss: 0.2866 - val_accuracy: 0.8875\n",
      "Epoch 4/20\n",
      "30/30 [==============================] - 1s 17ms/step - loss: 0.1906 - accuracy: 0.9379 - val_loss: 0.2783 - val_accuracy: 0.8883\n",
      "Epoch 5/20\n",
      "30/30 [==============================] - 1s 21ms/step - loss: 0.1539 - accuracy: 0.9525 - val_loss: 0.2777 - val_accuracy: 0.8880\n",
      "Epoch 6/20\n",
      "30/30 [==============================] - 1s 20ms/step - loss: 0.1266 - accuracy: 0.9615 - val_loss: 0.2965 - val_accuracy: 0.8837\n",
      "Epoch 7/20\n",
      "30/30 [==============================] - 1s 17ms/step - loss: 0.1043 - accuracy: 0.9703 - val_loss: 0.3384 - val_accuracy: 0.8742\n",
      "Epoch 8/20\n",
      "30/30 [==============================] - 1s 22ms/step - loss: 0.0868 - accuracy: 0.9767 - val_loss: 0.3387 - val_accuracy: 0.8765\n",
      "Epoch 9/20\n",
      "30/30 [==============================] - 0s 17ms/step - loss: 0.0702 - accuracy: 0.9807 - val_loss: 0.3800 - val_accuracy: 0.8716\n",
      "Epoch 10/20\n",
      "30/30 [==============================] - 1s 22ms/step - loss: 0.0575 - accuracy: 0.9871 - val_loss: 0.3879 - val_accuracy: 0.8734\n",
      "Epoch 11/20\n",
      "30/30 [==============================] - 1s 17ms/step - loss: 0.0484 - accuracy: 0.9887 - val_loss: 0.4051 - val_accuracy: 0.8734\n",
      "Epoch 12/20\n",
      "30/30 [==============================] - 1s 20ms/step - loss: 0.0374 - accuracy: 0.9922 - val_loss: 0.4178 - val_accuracy: 0.8764\n",
      "Epoch 13/20\n",
      "30/30 [==============================] - 1s 18ms/step - loss: 0.0302 - accuracy: 0.9941 - val_loss: 0.4958 - val_accuracy: 0.8628\n",
      "Epoch 14/20\n",
      "30/30 [==============================] - 1s 18ms/step - loss: 0.0206 - accuracy: 0.9973 - val_loss: 0.4835 - val_accuracy: 0.8737\n",
      "Epoch 15/20\n",
      "30/30 [==============================] - 1s 20ms/step - loss: 0.0177 - accuracy: 0.9978 - val_loss: 0.5179 - val_accuracy: 0.8724\n",
      "Epoch 16/20\n",
      "30/30 [==============================] - 1s 17ms/step - loss: 0.0150 - accuracy: 0.9977 - val_loss: 0.5564 - val_accuracy: 0.8706\n",
      "Epoch 17/20\n",
      "30/30 [==============================] - 1s 22ms/step - loss: 0.0122 - accuracy: 0.9983 - val_loss: 0.5814 - val_accuracy: 0.8707\n",
      "Epoch 18/20\n",
      "30/30 [==============================] - 1s 20ms/step - loss: 0.0066 - accuracy: 0.9997 - val_loss: 0.6697 - val_accuracy: 0.8624\n",
      "Epoch 19/20\n",
      "30/30 [==============================] - 1s 20ms/step - loss: 0.0091 - accuracy: 0.9987 - val_loss: 0.6500 - val_accuracy: 0.8682\n",
      "Epoch 20/20\n",
      "30/30 [==============================] - 1s 24ms/step - loss: 0.0039 - accuracy: 0.9998 - val_loss: 0.6865 - val_accuracy: 0.8653\n"
     ]
    }
   ],
   "source": [
    "history = model.fit(partial_x_train,\n",
    "                      partial_y_train,\n",
    "                      epochs = 20,\n",
    "                      batch_size = 512,\n",
    "                      validation_data = (x_val,y_val))"
   ]
  },
  {
   "cell_type": "code",
   "execution_count": 11,
   "id": "ee06ece5",
   "metadata": {},
   "outputs": [
    {
     "data": {
      "text/plain": [
       "dict_keys(['loss', 'accuracy', 'val_loss', 'val_accuracy'])"
      ]
     },
     "execution_count": 11,
     "metadata": {},
     "output_type": "execute_result"
    }
   ],
   "source": [
    "history_dict = history.history\n",
    "history_dict.keys()"
   ]
  },
  {
   "cell_type": "code",
   "execution_count": 12,
   "id": "82360b6c",
   "metadata": {},
   "outputs": [
    {
     "data": {
      "image/png": "[encoded data removed]",
      "text/plain": [
       "<Figure size 432x288 with 1 Axes>"
      ]
     },
     "metadata": {
      "needs_background": "light"
     },
     "output_type": "display_data"
    }
   ],
   "source": [
    "import matplotlib.pyplot as plt\n",
    "loss_values = history_dict[\"loss\"]\n",
    "val_loss_values = history_dict[\"val_loss\"]\n",
    "epochs = range(1, len(loss_values) + 1)\n",
    "plt.plot(epochs, loss_values, \"bo\", label=\"Training loss\")\n",
    "plt.plot(epochs, val_loss_values, \"b\", label=\"Validation loss\")\n",
    "plt.title(\"Training and validation loss\")\n",
    "plt.xlabel(\"Epochs\")\n",
    "plt.ylabel(\"Loss\")\n",
    "plt.legend()\n",
    "plt.show()"
   ]
  },
  {
   "cell_type": "code",
   "execution_count": 13,
   "id": "75181587",
   "metadata": {},
   "outputs": [
    {
     "data": {
      "image/png": "[encoded data removed]",
      "text/plain": [
       "<Figure size 432x288 with 1 Axes>"
      ]
     },
     "metadata": {
      "needs_background": "light"
     },
     "output_type": "display_data"
    }
   ],
   "source": [
    "plt.clf()\n",
    "acc = history_dict[\"accuracy\"]\n",
    "val_acc = history_dict[\"val_accuracy\"]\n",
    "plt.plot(epochs, acc, \"bo\", label=\"Training acc\")\n",
    "plt.plot(epochs, val_acc, \"b\", label=\"Validation acc\")\n",
    "plt.title(\"Training and validation accuracy\")\n",
    "plt.xlabel(\"Epochs\")\n",
    "plt.ylabel(\"Accuracy\")\n",
    "plt.legend()\n",
    "plt.show()"
   ]
  },
  {
   "cell_type": "markdown",
   "id": "46aaa70a",
   "metadata": {},
   "source": [
    "### From above we can see that after 4 epochs model is being overfit"
   ]
  },
  {
   "cell_type": "code",
   "execution_count": 14,
   "id": "bc8040b7",
   "metadata": {},
   "outputs": [
    {
     "name": "stdout",
     "output_type": "stream",
     "text": [
      "Epoch 1/4\n",
      "49/49 [==============================] - 1s 10ms/step - loss: 0.4329 - accuracy: 0.8260\n",
      "Epoch 2/4\n",
      "49/49 [==============================] - 1s 11ms/step - loss: 0.2537 - accuracy: 0.9068\n",
      "Epoch 3/4\n",
      "49/49 [==============================] - 0s 10ms/step - loss: 0.1930 - accuracy: 0.9322\n",
      "Epoch 4/4\n",
      "49/49 [==============================] - 1s 11ms/step - loss: 0.1648 - accuracy: 0.9417\n",
      "782/782 [==============================] - 1s 1ms/step - loss: 0.2979 - accuracy: 0.8824\n"
     ]
    }
   ],
   "source": [
    "model = keras.Sequential([\n",
    "    layers.Dense(16, activation=\"relu\"),\n",
    "    layers.Dense(16, activation=\"relu\"),\n",
    "    layers.Dense(1, activation=\"sigmoid\")\n",
    "])\n",
    "model.compile(optimizer=\"rmsprop\",\n",
    "              loss=\"binary_crossentropy\",\n",
    "              metrics=[\"accuracy\"])\n",
    "model.fit(x_train, y_train, epochs=4, batch_size=512)\n",
    "results = model.evaluate(x_test, y_test)"
   ]
  },
  {
   "cell_type": "code",
   "execution_count": 15,
   "id": "c9a0de2a",
   "metadata": {},
   "outputs": [
    {
     "data": {
      "text/plain": [
       "[0.29785290360450745, 0.8824399709701538]"
      ]
     },
     "execution_count": 15,
     "metadata": {},
     "output_type": "execute_result"
    }
   ],
   "source": [
    "results"
   ]
  },
  {
   "cell_type": "code",
   "execution_count": 16,
   "id": "b1ed8989",
   "metadata": {},
   "outputs": [
    {
     "data": {
      "text/plain": [
       "array([[0.23363096],\n",
       "       [0.9998697 ],\n",
       "       [0.93635356],\n",
       "       ...,\n",
       "       [0.131771  ],\n",
       "       [0.07277086],\n",
       "       [0.74159765]], dtype=float32)"
      ]
     },
     "execution_count": 16,
     "metadata": {},
     "output_type": "execute_result"
    }
   ],
   "source": [
    "model.predict(x_test)"
   ]
  },
  {
   "cell_type": "markdown",
   "id": "49ac2b67",
   "metadata": {},
   "source": [
    "## Tuning the number of layers"
   ]
  },
  {
   "cell_type": "code",
   "execution_count": 17,
   "id": "f5d1634e",
   "metadata": {},
   "outputs": [],
   "source": [
    "model1 = keras.Sequential([\n",
    "    layers.Dense(64, activation = 'relu'),\n",
    "    layers.Dense(1, activation = 'sigmoid')\n",
    "])\n",
    "model2 = keras.Sequential([\n",
    "    layers.Dense(64, activation = 'relu'),\n",
    "    layers.Dense(64, activation = 'relu'),\n",
    "    layers.Dense(1, activation = 'sigmoid')\n",
    "])\n",
    "model3 = keras.Sequential([\n",
    "    layers.Dense(64, activation = 'relu'),\n",
    "    layers.Dense(64, activation = 'relu'),\n",
    "    layers.Dense(64, activation = 'relu'),\n",
    "    layers.Dense(1, activation = 'sigmoid')\n",
    "])\n",
    "model4 = keras.Sequential([\n",
    "    layers.Dense(64, activation = 'relu'),\n",
    "    layers.Dense(64, activation = 'relu'),\n",
    "    layers.Dense(64, activation = 'relu'),\n",
    "    layers.Dense(64, activation = 'relu'),\n",
    "    layers.Dense(1, activation = 'sigmoid')\n",
    "])\n",
    "model5 = keras.Sequential([\n",
    "    layers.Dense(64, activation = 'relu'),\n",
    "    layers.Dense(64, activation = 'relu'),\n",
    "    layers.Dense(64, activation = 'relu'),\n",
    "    layers.Dense(64, activation = 'relu'),\n",
    "    layers.Dense(64, activation = 'relu'),\n",
    "    layers.Dense(1, activation = 'sigmoid')\n",
    "])"
   ]
  },
  {
   "cell_type": "code",
   "execution_count": 18,
   "id": "aac67c7b",
   "metadata": {},
   "outputs": [],
   "source": [
    "model1.compile(optimizer = \"rmsprop\",\n",
    "              loss = \"binary_crossentropy\",\n",
    "              metrics = [\"accuracy\"])\n",
    "model2.compile(optimizer = \"rmsprop\",\n",
    "              loss = \"binary_crossentropy\",\n",
    "              metrics = [\"accuracy\"])\n",
    "model3.compile(optimizer = \"rmsprop\",\n",
    "              loss = \"binary_crossentropy\",\n",
    "              metrics = [\"accuracy\"])\n",
    "model4.compile(optimizer = \"rmsprop\",\n",
    "              loss = \"binary_crossentropy\",\n",
    "              metrics = [\"accuracy\"])\n",
    "model5.compile(optimizer = \"rmsprop\",\n",
    "              loss = \"binary_crossentropy\",\n",
    "              metrics = [\"accuracy\"])"
   ]
  },
  {
   "cell_type": "code",
   "execution_count": 19,
   "id": "f4a323a1",
   "metadata": {},
   "outputs": [
    {
     "name": "stdout",
     "output_type": "stream",
     "text": [
      "Epoch 1/5\n",
      "30/30 [==============================] - 1s 33ms/step - loss: 0.4647 - accuracy: 0.7952 - val_loss: 0.3604 - val_accuracy: 0.8608\n",
      "Epoch 2/5\n",
      "30/30 [==============================] - 1s 23ms/step - loss: 0.2658 - accuracy: 0.9101 - val_loss: 0.2837 - val_accuracy: 0.8915\n",
      "Epoch 3/5\n",
      "30/30 [==============================] - 1s 25ms/step - loss: 0.2010 - accuracy: 0.9319 - val_loss: 0.2755 - val_accuracy: 0.8897\n",
      "Epoch 4/5\n",
      "30/30 [==============================] - 1s 24ms/step - loss: 0.1594 - accuracy: 0.9478 - val_loss: 0.3044 - val_accuracy: 0.8803\n",
      "Epoch 5/5\n",
      "30/30 [==============================] - 1s 24ms/step - loss: 0.1321 - accuracy: 0.9576 - val_loss: 0.2906 - val_accuracy: 0.8860\n",
      "Epoch 1/5\n",
      "30/30 [==============================] - 1s 32ms/step - loss: 0.4747 - accuracy: 0.7794 - val_loss: 0.3318 - val_accuracy: 0.8738\n",
      "Epoch 2/5\n",
      "30/30 [==============================] - 1s 25ms/step - loss: 0.2585 - accuracy: 0.9059 - val_loss: 0.3415 - val_accuracy: 0.8595\n",
      "Epoch 3/5\n",
      "30/30 [==============================] - 1s 26ms/step - loss: 0.1875 - accuracy: 0.9317 - val_loss: 0.3919 - val_accuracy: 0.8501\n",
      "Epoch 4/5\n",
      "30/30 [==============================] - 1s 23ms/step - loss: 0.1385 - accuracy: 0.9505 - val_loss: 0.2921 - val_accuracy: 0.8856\n",
      "Epoch 5/5\n",
      "30/30 [==============================] - 1s 25ms/step - loss: 0.1161 - accuracy: 0.9590 - val_loss: 0.3161 - val_accuracy: 0.8841\n",
      "Epoch 1/5\n",
      "30/30 [==============================] - 2s 36ms/step - loss: 0.4920 - accuracy: 0.7737 - val_loss: 0.3583 - val_accuracy: 0.8534\n",
      "Epoch 2/5\n",
      "30/30 [==============================] - 1s 25ms/step - loss: 0.2620 - accuracy: 0.8971 - val_loss: 0.3993 - val_accuracy: 0.8370\n",
      "Epoch 3/5\n",
      "30/30 [==============================] - 1s 25ms/step - loss: 0.1823 - accuracy: 0.9309 - val_loss: 0.3065 - val_accuracy: 0.8811\n",
      "Epoch 4/5\n",
      "30/30 [==============================] - 1s 24ms/step - loss: 0.1334 - accuracy: 0.9535 - val_loss: 0.3062 - val_accuracy: 0.8856\n",
      "Epoch 5/5\n",
      "30/30 [==============================] - 1s 25ms/step - loss: 0.1024 - accuracy: 0.9634 - val_loss: 0.4286 - val_accuracy: 0.8495\n",
      "Epoch 1/5\n",
      "30/30 [==============================] - 2s 34ms/step - loss: 0.5105 - accuracy: 0.7535 - val_loss: 0.3246 - val_accuracy: 0.8790\n",
      "Epoch 2/5\n",
      "30/30 [==============================] - 1s 25ms/step - loss: 0.2631 - accuracy: 0.9002 - val_loss: 0.2912 - val_accuracy: 0.8841\n",
      "Epoch 3/5\n",
      "30/30 [==============================] - 1s 25ms/step - loss: 0.1915 - accuracy: 0.9275 - val_loss: 0.2884 - val_accuracy: 0.8896\n",
      "Epoch 4/5\n",
      "30/30 [==============================] - 1s 26ms/step - loss: 0.1506 - accuracy: 0.9461 - val_loss: 0.3309 - val_accuracy: 0.8803\n",
      "Epoch 5/5\n",
      "30/30 [==============================] - 1s 27ms/step - loss: 0.0926 - accuracy: 0.9689 - val_loss: 0.3680 - val_accuracy: 0.8841\n",
      "Epoch 1/5\n",
      "30/30 [==============================] - 2s 34ms/step - loss: 0.5181 - accuracy: 0.7423 - val_loss: 0.3986 - val_accuracy: 0.8356\n",
      "Epoch 2/5\n",
      "30/30 [==============================] - 1s 26ms/step - loss: 0.2749 - accuracy: 0.8955 - val_loss: 0.2750 - val_accuracy: 0.8884\n",
      "Epoch 3/5\n",
      "30/30 [==============================] - 1s 26ms/step - loss: 0.1896 - accuracy: 0.9275 - val_loss: 0.2884 - val_accuracy: 0.8852\n",
      "Epoch 4/5\n",
      "30/30 [==============================] - 1s 25ms/step - loss: 0.1371 - accuracy: 0.9495 - val_loss: 0.3487 - val_accuracy: 0.8866\n",
      "Epoch 5/5\n",
      "30/30 [==============================] - 1s 25ms/step - loss: 0.1160 - accuracy: 0.9605 - val_loss: 0.3749 - val_accuracy: 0.8661\n"
     ]
    }
   ],
   "source": [
    "history1 = model1.fit(partial_x_train,\n",
    "                      partial_y_train,\n",
    "                      epochs = 5,\n",
    "                      batch_size = 512,\n",
    "                      validation_data = (x_val,y_val))\n",
    "history2 = model2.fit(partial_x_train,\n",
    "                      partial_y_train,\n",
    "                      epochs = 5,\n",
    "                      batch_size = 512,\n",
    "                      validation_data = (x_val,y_val))\n",
    "history3 = model3.fit(partial_x_train,\n",
    "                      partial_y_train,\n",
    "                      epochs = 5,\n",
    "                      batch_size = 512,\n",
    "                      validation_data = (x_val,y_val))\n",
    "history4 = model4.fit(partial_x_train,\n",
    "                      partial_y_train,\n",
    "                      epochs = 5,\n",
    "                      batch_size = 512,\n",
    "                      validation_data = (x_val,y_val))\n",
    "history5 = model5.fit(partial_x_train,\n",
    "                      partial_y_train,\n",
    "                      epochs = 5,\n",
    "                      batch_size = 512,\n",
    "                      validation_data = (x_val,y_val))"
   ]
  },
  {
   "cell_type": "code",
   "execution_count": 20,
   "id": "13acb77c",
   "metadata": {},
   "outputs": [
    {
     "name": "stdout",
     "output_type": "stream",
     "text": [
      "782/782 [==============================] - 1s 2ms/step - loss: 0.3123 - accuracy: 0.8753\n",
      "782/782 [==============================] - 1s 2ms/step - loss: 0.3413 - accuracy: 0.8735\n",
      "782/782 [==============================] - 1s 2ms/step - loss: 0.4871 - accuracy: 0.8324\n",
      "782/782 [==============================] - 1s 2ms/step - loss: 0.4000 - accuracy: 0.8732\n",
      "782/782 [==============================] - 1s 2ms/step - loss: 0.4209 - accuracy: 0.8490\n"
     ]
    }
   ],
   "source": [
    "layers = [2,3,4,5,6]\n",
    "results = [ model1.evaluate(x_test, y_test)[1],\n",
    "              model2.evaluate(x_test, y_test)[1],\n",
    "              model3.evaluate(x_test, y_test)[1],\n",
    "              model4.evaluate(x_test, y_test)[1],\n",
    "              model5.evaluate(x_test, y_test)[1] ]"
   ]
  },
  {
   "cell_type": "code",
   "execution_count": 21,
   "id": "4ca74f08",
   "metadata": {},
   "outputs": [
    {
     "data": {
      "image/png": "[encoded data removed]",
      "text/plain": [
       "<Figure size 432x288 with 1 Axes>"
      ]
     },
     "metadata": {
      "needs_background": "light"
     },
     "output_type": "display_data"
    }
   ],
   "source": [
    "import matplotlib.pyplot as plt\n",
    "plt.plot(layers, results, \"b\")\n",
    "#plt.plot(epochs, val_loss_values, \"b\", label=\"Validation loss\")\n",
    "#plt.title(\"Training and validation loss\")\n",
    "plt.xlabel(\"Layers\")\n",
    "plt.ylabel(\"Test_Accuracy\")\n",
    "#plt.legend()\n",
    "plt.show()"
   ]
  },
  {
   "cell_type": "markdown",
   "id": "ba890c3a",
   "metadata": {},
   "source": [
    "### From above we can see if it is 2 or 4 layers then we are getting highest accuracy"
   ]
  },
  {
   "cell_type": "markdown",
   "id": "6ef89a95",
   "metadata": {},
   "source": [
    "## Tuning the number of neurons in the model"
   ]
  },
  {
   "cell_type": "code",
   "execution_count": 22,
   "id": "d6fc9d44",
   "metadata": {},
   "outputs": [
    {
     "name": "stdout",
     "output_type": "stream",
     "text": [
      "Epoch 1/5\n",
      "30/30 [==============================] - 1s 28ms/step - loss: 0.4995 - accuracy: 0.7734 - val_loss: 0.3625 - val_accuracy: 0.8665\n",
      "Epoch 2/5\n",
      "30/30 [==============================] - 1s 19ms/step - loss: 0.2833 - accuracy: 0.8998 - val_loss: 0.2857 - val_accuracy: 0.8894\n",
      "Epoch 3/5\n",
      "30/30 [==============================] - 1s 21ms/step - loss: 0.2035 - accuracy: 0.9285 - val_loss: 0.2773 - val_accuracy: 0.8884\n",
      "Epoch 4/5\n",
      "30/30 [==============================] - 1s 22ms/step - loss: 0.1558 - accuracy: 0.9494 - val_loss: 0.2881 - val_accuracy: 0.8850\n",
      "Epoch 5/5\n",
      "30/30 [==============================] - 1s 25ms/step - loss: 0.1237 - accuracy: 0.9597 - val_loss: 0.2935 - val_accuracy: 0.8875\n",
      "Epoch 1/5\n",
      "30/30 [==============================] - 2s 32ms/step - loss: 0.4852 - accuracy: 0.7816 - val_loss: 0.3634 - val_accuracy: 0.8552\n",
      "Epoch 2/5\n",
      "30/30 [==============================] - 1s 28ms/step - loss: 0.2678 - accuracy: 0.8997 - val_loss: 0.2772 - val_accuracy: 0.8904\n",
      "Epoch 3/5\n",
      "30/30 [==============================] - 1s 23ms/step - loss: 0.1854 - accuracy: 0.9321 - val_loss: 0.3073 - val_accuracy: 0.8801\n",
      "Epoch 4/5\n",
      "30/30 [==============================] - 1s 25ms/step - loss: 0.1446 - accuracy: 0.9489 - val_loss: 0.3103 - val_accuracy: 0.8831\n",
      "Epoch 5/5\n",
      "30/30 [==============================] - 1s 24ms/step - loss: 0.1053 - accuracy: 0.9640 - val_loss: 0.3611 - val_accuracy: 0.8758\n",
      "Epoch 1/5\n",
      "30/30 [==============================] - 2s 42ms/step - loss: 0.4861 - accuracy: 0.7733 - val_loss: 0.3894 - val_accuracy: 0.8349\n",
      "Epoch 2/5\n",
      "30/30 [==============================] - 1s 34ms/step - loss: 0.2601 - accuracy: 0.8990 - val_loss: 0.2849 - val_accuracy: 0.8851\n",
      "Epoch 3/5\n",
      "30/30 [==============================] - 1s 33ms/step - loss: 0.1824 - accuracy: 0.9309 - val_loss: 0.3269 - val_accuracy: 0.8758\n",
      "Epoch 4/5\n",
      "30/30 [==============================] - 1s 37ms/step - loss: 0.1347 - accuracy: 0.9507 - val_loss: 0.2868 - val_accuracy: 0.8883\n",
      "Epoch 5/5\n",
      "30/30 [==============================] - 1s 31ms/step - loss: 0.0953 - accuracy: 0.9685 - val_loss: 0.3255 - val_accuracy: 0.8865\n",
      "Epoch 1/5\n",
      "30/30 [==============================] - 3s 66ms/step - loss: 0.5109 - accuracy: 0.7659 - val_loss: 0.3493 - val_accuracy: 0.8502\n",
      "Epoch 2/5\n",
      "30/30 [==============================] - 2s 56ms/step - loss: 0.2524 - accuracy: 0.9003 - val_loss: 0.3229 - val_accuracy: 0.8667\n",
      "Epoch 3/5\n",
      "30/30 [==============================] - 2s 57ms/step - loss: 0.1673 - accuracy: 0.9369 - val_loss: 0.2920 - val_accuracy: 0.8875\n",
      "Epoch 4/5\n",
      "30/30 [==============================] - 2s 56ms/step - loss: 0.1085 - accuracy: 0.9607 - val_loss: 0.3097 - val_accuracy: 0.8863\n",
      "Epoch 5/5\n",
      "30/30 [==============================] - 2s 57ms/step - loss: 0.0725 - accuracy: 0.9759 - val_loss: 0.3544 - val_accuracy: 0.8885\n",
      "Epoch 1/5\n",
      "30/30 [==============================] - 4s 113ms/step - loss: 0.5626 - accuracy: 0.7828 - val_loss: 0.2936 - val_accuracy: 0.8850\n",
      "Epoch 2/5\n",
      "30/30 [==============================] - 3s 105ms/step - loss: 0.2583 - accuracy: 0.8963 - val_loss: 0.2693 - val_accuracy: 0.8902\n",
      "Epoch 3/5\n",
      "30/30 [==============================] - 3s 105ms/step - loss: 0.1494 - accuracy: 0.9459 - val_loss: 0.3546 - val_accuracy: 0.8701\n",
      "Epoch 4/5\n",
      "30/30 [==============================] - 3s 106ms/step - loss: 0.0642 - accuracy: 0.9783 - val_loss: 0.4490 - val_accuracy: 0.8743\n",
      "Epoch 5/5\n",
      "30/30 [==============================] - 3s 103ms/step - loss: 0.1354 - accuracy: 0.9727 - val_loss: 0.3156 - val_accuracy: 0.8862\n",
      "Epoch 1/5\n",
      "30/30 [==============================] - 1s 24ms/step - loss: 0.4990 - accuracy: 0.7781 - val_loss: 0.3589 - val_accuracy: 0.8739\n",
      "Epoch 2/5\n",
      "30/30 [==============================] - 1s 19ms/step - loss: 0.2854 - accuracy: 0.9039 - val_loss: 0.3017 - val_accuracy: 0.8851\n",
      "Epoch 3/5\n",
      "30/30 [==============================] - 1s 26ms/step - loss: 0.2149 - accuracy: 0.9277 - val_loss: 0.2893 - val_accuracy: 0.8840\n",
      "Epoch 4/5\n",
      "30/30 [==============================] - 0s 17ms/step - loss: 0.1691 - accuracy: 0.9451 - val_loss: 0.2877 - val_accuracy: 0.8856\n",
      "Epoch 5/5\n",
      "30/30 [==============================] - 1s 21ms/step - loss: 0.1397 - accuracy: 0.9546 - val_loss: 0.2926 - val_accuracy: 0.8854\n"
     ]
    }
   ],
   "source": [
    "from tensorflow import keras\n",
    "from tensorflow.keras import layers\n",
    "model11 = keras.Sequential([\n",
    "    layers.Dense(16, activation = 'relu'),\n",
    "    layers.Dense(16, activation = 'relu'),\n",
    "    layers.Dense(1, activation = 'sigmoid')\n",
    "])\n",
    "model6 = keras.Sequential([\n",
    "    layers.Dense(32, activation = 'relu'),\n",
    "    layers.Dense(32, activation = 'relu'),\n",
    "    layers.Dense(1, activation = 'sigmoid')\n",
    "])\n",
    "model7 = keras.Sequential([\n",
    "    layers.Dense(64, activation = 'relu'),\n",
    "    layers.Dense(64, activation = 'relu'),\n",
    "    layers.Dense(1, activation = 'sigmoid')\n",
    "])\n",
    "model8 = keras.Sequential([\n",
    "    layers.Dense(128, activation = 'relu'),\n",
    "    layers.Dense(128, activation = 'relu'),\n",
    "    layers.Dense(1, activation = 'sigmoid')\n",
    "])\n",
    "model9 = keras.Sequential([\n",
    "    layers.Dense(256, activation = 'relu'),\n",
    "    layers.Dense(256, activation = 'relu'),\n",
    "    layers.Dense(1, activation = 'sigmoid')\n",
    "])\n",
    "model10 = keras.Sequential([\n",
    "    layers.Dense(512, activation = 'relu'),\n",
    "    layers.Dense(512, activation = 'relu'),\n",
    "    layers.Dense(1, activation = 'sigmoid')\n",
    "])\n",
    "model6.compile(optimizer = \"rmsprop\",\n",
    "              loss = \"binary_crossentropy\",\n",
    "              metrics = [\"accuracy\"])\n",
    "model7.compile(optimizer = \"rmsprop\",\n",
    "              loss = \"binary_crossentropy\",\n",
    "              metrics = [\"accuracy\"])\n",
    "model8.compile(optimizer = \"rmsprop\",\n",
    "              loss = \"binary_crossentropy\",\n",
    "              metrics = [\"accuracy\"])\n",
    "model9.compile(optimizer = \"rmsprop\",\n",
    "              loss = \"binary_crossentropy\",\n",
    "              metrics = [\"accuracy\"])\n",
    "model10.compile(optimizer = \"rmsprop\",\n",
    "              loss = \"binary_crossentropy\",\n",
    "              metrics = [\"accuracy\"])\n",
    "model11.compile(optimizer = \"rmsprop\",\n",
    "              loss = \"binary_crossentropy\",\n",
    "              metrics = [\"accuracy\"])\n",
    "history6 = model6.fit(partial_x_train,\n",
    "                      partial_y_train,\n",
    "                      epochs = 5,\n",
    "                      batch_size = 512,\n",
    "                      validation_data = (x_val,y_val))\n",
    "history7 = model7.fit(partial_x_train,\n",
    "                      partial_y_train,\n",
    "                      epochs = 5,\n",
    "                      batch_size = 512,\n",
    "                      validation_data = (x_val,y_val))\n",
    "history8 = model8.fit(partial_x_train,\n",
    "                      partial_y_train,\n",
    "                      epochs = 5,\n",
    "                      batch_size = 512,\n",
    "                      validation_data = (x_val,y_val))\n",
    "history9 = model9.fit(partial_x_train,\n",
    "                      partial_y_train,\n",
    "                      epochs = 5,\n",
    "                      batch_size = 512,\n",
    "                      validation_data = (x_val,y_val))\n",
    "history10 = model10.fit(partial_x_train,\n",
    "                      partial_y_train,\n",
    "                      epochs = 5,\n",
    "                      batch_size = 512,\n",
    "                      validation_data = (x_val,y_val))\n",
    "history11 = model11.fit(partial_x_train,\n",
    "                      partial_y_train,\n",
    "                      epochs = 5,\n",
    "                      batch_size = 512,\n",
    "                      validation_data = (x_val,y_val))"
   ]
  },
  {
   "cell_type": "code",
   "execution_count": 23,
   "id": "c105376f",
   "metadata": {},
   "outputs": [
    {
     "name": "stdout",
     "output_type": "stream",
     "text": [
      "782/782 [==============================] - 1s 1ms/step - loss: 0.3088 - accuracy: 0.8769\n",
      "782/782 [==============================] - 1s 1ms/step - loss: 0.3167 - accuracy: 0.8764\n",
      "782/782 [==============================] - 1s 2ms/step - loss: 0.3824 - accuracy: 0.8629\n",
      "782/782 [==============================] - 2s 2ms/step - loss: 0.3550 - accuracy: 0.8734\n",
      "782/782 [==============================] - 3s 4ms/step - loss: 0.3757 - accuracy: 0.8778\n",
      "782/782 [==============================] - 4s 5ms/step - loss: 0.3366 - accuracy: 0.8765\n"
     ]
    }
   ],
   "source": [
    "size = [16,32,64,128,256,512]\n",
    "results1 = [  model11.evaluate(x_test, y_test)[1],\n",
    "              model6.evaluate(x_test, y_test)[1],\n",
    "              model7.evaluate(x_test, y_test)[1],\n",
    "              model8.evaluate(x_test, y_test)[1],\n",
    "              model9.evaluate(x_test, y_test)[1],\n",
    "              model10.evaluate(x_test, y_test)[1] ]"
   ]
  },
  {
   "cell_type": "code",
   "execution_count": 24,
   "id": "f3d57ed0",
   "metadata": {},
   "outputs": [
    {
     "data": {
      "image/png": "[encoded data removed]",
      "text/plain": [
       "<Figure size 432x288 with 1 Axes>"
      ]
     },
     "metadata": {
      "needs_background": "light"
     },
     "output_type": "display_data"
    }
   ],
   "source": [
    "import matplotlib.pyplot as plt\n",
    "plt.plot(size, results1, \"b\")\n",
    "#plt.plot(epochs, val_loss_values, \"b\", label=\"Validation loss\")\n",
    "#plt.title(\"Training and validation loss\")\n",
    "plt.xlabel(\"Sizes\")\n",
    "plt.ylabel(\"Test_Accuracy\")\n",
    "#plt.legend()\n",
    "plt.show()"
   ]
  },
  {
   "cell_type": "markdown",
   "id": "793c449b",
   "metadata": {},
   "source": [
    "### For 16 neurons we are getting highest accuracy"
   ]
  },
  {
   "cell_type": "markdown",
   "id": "35a24e8a",
   "metadata": {},
   "source": [
    "## Tuning the Optimizers in the model"
   ]
  },
  {
   "cell_type": "code",
   "execution_count": 25,
   "id": "e540f618",
   "metadata": {},
   "outputs": [
    {
     "name": "stdout",
     "output_type": "stream",
     "text": [
      "Epoch 1/5\n",
      "30/30 [==============================] - 2s 34ms/step - loss: 0.4936 - accuracy: 0.7637 - val_loss: 0.3212 - val_accuracy: 0.8799\n",
      "Epoch 2/5\n",
      "30/30 [==============================] - 1s 25ms/step - loss: 0.2668 - accuracy: 0.8980 - val_loss: 0.2784 - val_accuracy: 0.8896\n",
      "Epoch 3/5\n",
      "30/30 [==============================] - 1s 24ms/step - loss: 0.1947 - accuracy: 0.9284 - val_loss: 0.3848 - val_accuracy: 0.8502\n",
      "Epoch 4/5\n",
      "30/30 [==============================] - 1s 24ms/step - loss: 0.1433 - accuracy: 0.9493 - val_loss: 0.3111 - val_accuracy: 0.8840\n",
      "Epoch 5/5\n",
      "30/30 [==============================] - 1s 24ms/step - loss: 0.1118 - accuracy: 0.9659 - val_loss: 0.3480 - val_accuracy: 0.8843\n",
      "Epoch 1/5\n",
      "30/30 [==============================] - 1s 30ms/step - loss: 0.4509 - accuracy: 0.8073 - val_loss: 0.2832 - val_accuracy: 0.8850\n",
      "Epoch 2/5\n",
      "30/30 [==============================] - 1s 23ms/step - loss: 0.1879 - accuracy: 0.9304 - val_loss: 0.3018 - val_accuracy: 0.8844\n",
      "Epoch 3/5\n",
      "30/30 [==============================] - 1s 25ms/step - loss: 0.1038 - accuracy: 0.9661 - val_loss: 0.3677 - val_accuracy: 0.8776\n",
      "Epoch 4/5\n",
      "30/30 [==============================] - 1s 29ms/step - loss: 0.0546 - accuracy: 0.9841 - val_loss: 0.4606 - val_accuracy: 0.8731\n",
      "Epoch 5/5\n",
      "30/30 [==============================] - 1s 26ms/step - loss: 0.0242 - accuracy: 0.9953 - val_loss: 0.5684 - val_accuracy: 0.8675\n",
      "Epoch 1/5\n",
      "30/30 [==============================] - 1s 29ms/step - loss: 0.6925 - accuracy: 0.5129 - val_loss: 0.6924 - val_accuracy: 0.5103\n",
      "Epoch 2/5\n",
      "30/30 [==============================] - 1s 23ms/step - loss: 0.6910 - accuracy: 0.5239 - val_loss: 0.6911 - val_accuracy: 0.5225\n",
      "Epoch 3/5\n",
      "30/30 [==============================] - 1s 26ms/step - loss: 0.6895 - accuracy: 0.5362 - val_loss: 0.6896 - val_accuracy: 0.5361\n",
      "Epoch 4/5\n",
      "30/30 [==============================] - 1s 27ms/step - loss: 0.6877 - accuracy: 0.5530 - val_loss: 0.6878 - val_accuracy: 0.5491\n",
      "Epoch 5/5\n",
      "30/30 [==============================] - 1s 27ms/step - loss: 0.6856 - accuracy: 0.5633 - val_loss: 0.6856 - val_accuracy: 0.5580\n",
      "Epoch 1/5\n",
      "30/30 [==============================] - 1s 30ms/step - loss: 0.6934 - accuracy: 0.4997 - val_loss: 0.6932 - val_accuracy: 0.5046\n",
      "Epoch 2/5\n",
      "30/30 [==============================] - 1s 23ms/step - loss: 0.6932 - accuracy: 0.5039 - val_loss: 0.6930 - val_accuracy: 0.5093\n",
      "Epoch 3/5\n",
      "30/30 [==============================] - 1s 27ms/step - loss: 0.6929 - accuracy: 0.5101 - val_loss: 0.6928 - val_accuracy: 0.5150\n",
      "Epoch 4/5\n",
      "30/30 [==============================] - 1s 29ms/step - loss: 0.6927 - accuracy: 0.5169 - val_loss: 0.6926 - val_accuracy: 0.5178\n",
      "Epoch 5/5\n",
      "30/30 [==============================] - 1s 25ms/step - loss: 0.6924 - accuracy: 0.5239 - val_loss: 0.6924 - val_accuracy: 0.5242\n"
     ]
    }
   ],
   "source": [
    "model12 = keras.Sequential([\n",
    "    layers.Dense(64, activation = 'relu'),\n",
    "    layers.Dense(64, activation = 'relu'),\n",
    "    layers.Dense(64, activation = 'relu'),\n",
    "    layers.Dense(1, activation = 'sigmoid')\n",
    "])\n",
    "model13 = keras.Sequential([\n",
    "    layers.Dense(64, activation = 'relu'),\n",
    "    layers.Dense(64, activation = 'relu'),\n",
    "    layers.Dense(64, activation = 'relu'),\n",
    "    layers.Dense(1, activation = 'sigmoid')\n",
    "])\n",
    "model14 = keras.Sequential([\n",
    "    layers.Dense(64, activation = 'relu'),\n",
    "    layers.Dense(64, activation = 'relu'),\n",
    "    layers.Dense(64, activation = 'relu'),\n",
    "    layers.Dense(1, activation = 'sigmoid')\n",
    "])\n",
    "model15 = keras.Sequential([\n",
    "    layers.Dense(64, activation = 'relu'),\n",
    "    layers.Dense(64, activation = 'relu'),\n",
    "    layers.Dense(64, activation = 'relu'),\n",
    "    layers.Dense(1, activation = 'sigmoid')\n",
    "])\n",
    "model12.compile(optimizer = \"rmsprop\",\n",
    "              loss = \"binary_crossentropy\",\n",
    "              metrics = [\"accuracy\"])\n",
    "model13.compile(optimizer = \"adam\",\n",
    "              loss = \"binary_crossentropy\",\n",
    "              metrics = [\"accuracy\"])\n",
    "model14.compile(optimizer = \"sgd\",\n",
    "              loss = \"binary_crossentropy\",\n",
    "              metrics = [\"accuracy\"])\n",
    "model15.compile(optimizer = \"adagrad\",\n",
    "              loss = \"binary_crossentropy\",\n",
    "              metrics = [\"accuracy\"])\n",
    "history12 = model12.fit(partial_x_train,\n",
    "                      partial_y_train,\n",
    "                      epochs = 5,\n",
    "                      batch_size = 512,\n",
    "                      validation_data = (x_val,y_val))\n",
    "history13 = model13.fit(partial_x_train,\n",
    "                      partial_y_train,\n",
    "                      epochs = 5,\n",
    "                      batch_size = 512,\n",
    "                      validation_data = (x_val,y_val))\n",
    "history14 = model14.fit(partial_x_train,\n",
    "                      partial_y_train,\n",
    "                      epochs = 5,\n",
    "                      batch_size = 512,\n",
    "                      validation_data = (x_val,y_val))\n",
    "history15 = model15.fit(partial_x_train,\n",
    "                      partial_y_train,\n",
    "                      epochs = 5,\n",
    "                      batch_size = 512,\n",
    "                      validation_data = (x_val,y_val))"
   ]
  },
  {
   "cell_type": "code",
   "execution_count": 26,
   "id": "0407477e",
   "metadata": {},
   "outputs": [
    {
     "name": "stdout",
     "output_type": "stream",
     "text": [
      "782/782 [==============================] - 1s 2ms/step - loss: 0.3778 - accuracy: 0.8708\n",
      "782/782 [==============================] - 1s 2ms/step - loss: 0.6132 - accuracy: 0.8559\n",
      "782/782 [==============================] - 1s 2ms/step - loss: 0.6849 - accuracy: 0.5678\n",
      "782/782 [==============================] - 1s 2ms/step - loss: 0.6926 - accuracy: 0.5176\n"
     ]
    },
    {
     "data": {
      "image/png": "[encoded data removed]",
      "text/plain": [
       "<Figure size 432x288 with 1 Axes>"
      ]
     },
     "metadata": {
      "needs_background": "light"
     },
     "output_type": "display_data"
    }
   ],
   "source": [
    "Optimizers = [1,2,3,4]\n",
    "results2 = [  model12.evaluate(x_test, y_test)[1],\n",
    "              model13.evaluate(x_test, y_test)[1],\n",
    "              model14.evaluate(x_test, y_test)[1],\n",
    "              model15.evaluate(x_test, y_test)[1]]\n",
    "import matplotlib.pyplot as plt\n",
    "plt.plot(Optimizers, results2, \"b\")\n",
    "#plt.plot(epochs, val_loss_values, \"b\", label=\"Validation loss\")\n",
    "#plt.title(\"Training and validation loss\")\n",
    "plt.xlabel(\"Optimizers\")\n",
    "plt.ylabel(\"Test_Accuracy\")\n",
    "#plt.legend()\n",
    "plt.show()"
   ]
  },
  {
   "cell_type": "markdown",
   "id": "78d8c980",
   "metadata": {},
   "source": [
    "### We are having highest accuracy for RMSprop optimizer"
   ]
  },
  {
   "cell_type": "markdown",
   "id": "92fdfb6e",
   "metadata": {},
   "source": [
    "## Tuning the Learning_rate of the model"
   ]
  },
  {
   "cell_type": "code",
   "execution_count": 29,
   "id": "8d70d428",
   "metadata": {},
   "outputs": [
    {
     "name": "stdout",
     "output_type": "stream",
     "text": [
      "Epoch 1/5\n",
      "118/118 [==============================] - 2s 15ms/step - loss: 585910.1875 - accuracy: 0.5314 - val_loss: 25.7424 - val_accuracy: 0.5054\n",
      "Epoch 2/5\n",
      "118/118 [==============================] - 1s 12ms/step - loss: 1266.3450 - accuracy: 0.5043 - val_loss: 0.7347 - val_accuracy: 0.4947\n",
      "Epoch 3/5\n",
      "118/118 [==============================] - 1s 13ms/step - loss: 161.3950 - accuracy: 0.5055 - val_loss: 0.7690 - val_accuracy: 0.5053\n",
      "Epoch 4/5\n",
      "118/118 [==============================] - 2s 14ms/step - loss: 37.4111 - accuracy: 0.4971 - val_loss: 0.7241 - val_accuracy: 0.4947\n",
      "Epoch 5/5\n",
      "118/118 [==============================] - 1s 12ms/step - loss: 2.2362 - accuracy: 0.4996 - val_loss: 0.8080 - val_accuracy: 0.4947\n",
      "Epoch 1/5\n",
      "118/118 [==============================] - 2s 14ms/step - loss: 80.7205 - accuracy: 0.6346 - val_loss: 0.7644 - val_accuracy: 0.5088\n",
      "Epoch 2/5\n",
      "118/118 [==============================] - 2s 13ms/step - loss: 0.8357 - accuracy: 0.6214 - val_loss: 1.0920 - val_accuracy: 0.5054\n",
      "Epoch 3/5\n",
      "118/118 [==============================] - 1s 13ms/step - loss: 0.6991 - accuracy: 0.7293 - val_loss: 0.4231 - val_accuracy: 0.8302\n",
      "Epoch 4/5\n",
      "118/118 [==============================] - 1s 13ms/step - loss: 0.5347 - accuracy: 0.8035 - val_loss: 0.6910 - val_accuracy: 0.4948\n",
      "Epoch 5/5\n",
      "118/118 [==============================] - 1s 12ms/step - loss: 1.7417 - accuracy: 0.5054 - val_loss: 0.6917 - val_accuracy: 0.5090\n",
      "Epoch 1/5\n",
      "118/118 [==============================] - 2s 15ms/step - loss: 0.4679 - accuracy: 0.8149 - val_loss: 0.2789 - val_accuracy: 0.8842\n",
      "Epoch 2/5\n",
      "118/118 [==============================] - 1s 12ms/step - loss: 0.2097 - accuracy: 0.9193 - val_loss: 0.3502 - val_accuracy: 0.8762\n",
      "Epoch 3/5\n",
      "118/118 [==============================] - 1s 12ms/step - loss: 0.1381 - accuracy: 0.9495 - val_loss: 0.4151 - val_accuracy: 0.8622\n",
      "Epoch 4/5\n",
      "118/118 [==============================] - 1s 12ms/step - loss: 0.0785 - accuracy: 0.9721 - val_loss: 0.4533 - val_accuracy: 0.8664\n",
      "Epoch 5/5\n",
      "118/118 [==============================] - 2s 13ms/step - loss: 0.0509 - accuracy: 0.9828 - val_loss: 1.0975 - val_accuracy: 0.8614\n",
      "Epoch 1/5\n",
      "118/118 [==============================] - 2s 15ms/step - loss: 0.3795 - accuracy: 0.8286 - val_loss: 0.5577 - val_accuracy: 0.7802\n",
      "Epoch 2/5\n",
      "118/118 [==============================] - 1s 12ms/step - loss: 0.1975 - accuracy: 0.9226 - val_loss: 0.2977 - val_accuracy: 0.8834\n",
      "Epoch 3/5\n",
      "118/118 [==============================] - 2s 13ms/step - loss: 0.1189 - accuracy: 0.9567 - val_loss: 0.3511 - val_accuracy: 0.8756\n",
      "Epoch 4/5\n",
      "118/118 [==============================] - 2s 14ms/step - loss: 0.0656 - accuracy: 0.9776 - val_loss: 0.4450 - val_accuracy: 0.8742\n",
      "Epoch 5/5\n",
      "118/118 [==============================] - 1s 13ms/step - loss: 0.0329 - accuracy: 0.9897 - val_loss: 0.6593 - val_accuracy: 0.8765\n"
     ]
    }
   ],
   "source": [
    "from tensorflow.keras.optimizers import RMSprop\n",
    "\n",
    "model20 = keras.Sequential([\n",
    "    layers.Dense(64, activation = 'relu'),\n",
    "    layers.Dense(64, activation = 'relu'),\n",
    "    layers.Dense(64, activation = 'relu'),\n",
    "    layers.Dense(1, activation = 'sigmoid')\n",
    "])\n",
    "model21 = keras.Sequential([\n",
    "    layers.Dense(64, activation = 'relu'),\n",
    "    layers.Dense(64, activation = 'relu'),\n",
    "    layers.Dense(64, activation = 'relu'),\n",
    "    layers.Dense(1, activation = 'sigmoid')\n",
    "])\n",
    "model22 = keras.Sequential([\n",
    "    layers.Dense(64, activation = 'relu'),\n",
    "    layers.Dense(64, activation = 'relu'),\n",
    "    layers.Dense(64, activation = 'relu'),\n",
    "    layers.Dense(1, activation = 'sigmoid')\n",
    "])\n",
    "model23 = keras.Sequential([\n",
    "    layers.Dense(64, activation = 'relu'),\n",
    "    layers.Dense(64, activation = 'relu'),\n",
    "    layers.Dense(64, activation = 'relu'),\n",
    "    layers.Dense(1, activation = 'sigmoid')\n",
    "])\n",
    "\n",
    "optimizer1 = RMSprop(learning_rate=1)\n",
    "optimizer2 = RMSprop(learning_rate=0.1)\n",
    "optimizer3 = RMSprop(learning_rate=0.01)\n",
    "optimizer4 = RMSprop(learning_rate=0.001)\n",
    "\n",
    "model20.compile(optimizer = optimizer1,\n",
    "              loss = \"binary_crossentropy\",\n",
    "              metrics = [\"accuracy\"])\n",
    "model21.compile(optimizer =  optimizer2,\n",
    "              loss = \"binary_crossentropy\",\n",
    "              metrics = [\"accuracy\"])\n",
    "model22.compile(optimizer =  optimizer3,\n",
    "              loss = \"binary_crossentropy\",\n",
    "              metrics = [\"accuracy\"])\n",
    "model23.compile(optimizer = optimizer4,\n",
    "              loss = \"binary_crossentropy\",\n",
    "              metrics = [\"accuracy\"])\n",
    "history20 = model20.fit(partial_x_train,\n",
    "                      partial_y_train,\n",
    "                      epochs = 5,\n",
    "                      batch_size = 128,\n",
    "                      validation_data = (x_val,y_val))\n",
    "history21 = model21.fit(partial_x_train,\n",
    "                      partial_y_train,\n",
    "                      epochs = 5,\n",
    "                      batch_size = 128,\n",
    "                      validation_data = (x_val,y_val))\n",
    "history22 = model22.fit(partial_x_train,\n",
    "                      partial_y_train,\n",
    "                      epochs = 5,\n",
    "                      batch_size = 128,\n",
    "                      validation_data = (x_val,y_val))\n",
    "history23 = model23.fit(partial_x_train,\n",
    "                      partial_y_train,\n",
    "                      epochs = 5,\n",
    "                      batch_size = 128,\n",
    "                      validation_data = (x_val,y_val))"
   ]
  },
  {
   "cell_type": "code",
   "execution_count": 30,
   "id": "9e830255",
   "metadata": {},
   "outputs": [
    {
     "name": "stdout",
     "output_type": "stream",
     "text": [
      "782/782 [==============================] - 1s 2ms/step - loss: 1.1752 - accuracy: 0.4998\n",
      "782/782 [==============================] - 1s 2ms/step - loss: 0.6925 - accuracy: 0.5032\n",
      "782/782 [==============================] - 1s 2ms/step - loss: 1.2543 - accuracy: 0.8463\n",
      "782/782 [==============================] - 1s 2ms/step - loss: 0.7256 - accuracy: 0.8590\n"
     ]
    },
    {
     "data": {
      "image/png": "[encoded data removed]",
      "text/plain": [
       "<Figure size 432x288 with 1 Axes>"
      ]
     },
     "metadata": {
      "needs_background": "light"
     },
     "output_type": "display_data"
    }
   ],
   "source": [
    "Learning_Rate = [1,2,3,4]\n",
    "results4 = [  model20.evaluate(x_test, y_test)[1],\n",
    "              model21.evaluate(x_test, y_test)[1],\n",
    "              model22.evaluate(x_test, y_test)[1],\n",
    "              model23.evaluate(x_test, y_test)[1]]\n",
    "import matplotlib.pyplot as plt\n",
    "plt.plot(Learning_Rate, results4, \"b\")\n",
    "#plt.plot(epochs, val_loss_values, \"b\", label=\"Validation loss\")\n",
    "#plt.title(\"Training and validation loss\")\n",
    "plt.xlabel(\"Learning_Rate\")\n",
    "plt.ylabel(\"Test_Accuracy\")\n",
    "#plt.legend()\n",
    "plt.show()"
   ]
  },
  {
   "cell_type": "markdown",
   "id": "44402e6e",
   "metadata": {},
   "source": [
    "### For 0.01 Learning_rate we are having highest accuracy"
   ]
  },
  {
   "cell_type": "markdown",
   "id": "4e358122",
   "metadata": {},
   "source": [
    "# Final Model including all the tuned parameters"
   ]
  },
  {
   "cell_type": "code",
   "execution_count": null,
   "id": "51f42263",
   "metadata": {},
   "outputs": [],
   "source": [
    "### Tuned parameters are 16 neurons, 4 layers, 0.01 learning_rate, RMSprop Optimizer"
   ]
  },
  {
   "cell_type": "code",
   "execution_count": 43,
   "id": "5c7b662b",
   "metadata": {},
   "outputs": [
    {
     "name": "stdout",
     "output_type": "stream",
     "text": [
      "Epoch 1/4\n",
      "30/30 [==============================] - 1s 26ms/step - loss: 0.6055 - accuracy: 0.7120 - val_loss: 0.4867 - val_accuracy: 0.7779\n",
      "Epoch 2/4\n",
      "30/30 [==============================] - 1s 17ms/step - loss: 0.2848 - accuracy: 0.8857 - val_loss: 0.2737 - val_accuracy: 0.8912\n",
      "Epoch 3/4\n",
      "30/30 [==============================] - 1s 21ms/step - loss: 0.2011 - accuracy: 0.9189 - val_loss: 0.3647 - val_accuracy: 0.8604\n",
      "Epoch 4/4\n",
      "30/30 [==============================] - 0s 16ms/step - loss: 0.1513 - accuracy: 0.9375 - val_loss: 0.3327 - val_accuracy: 0.8863\n"
     ]
    }
   ],
   "source": [
    "from tensorflow.keras.optimizers import RMSprop\n",
    "\n",
    "from tensorflow import keras\n",
    "from tensorflow.keras import layers\n",
    "Final_model = keras.Sequential([\n",
    "    layers.Dense(16, activation = 'relu'),\n",
    "    layers.Dense(16, activation = 'relu'),\n",
    "    layers.Dense(16, activation = 'relu'),\n",
    "    layers.Dense(1, activation = 'sigmoid')\n",
    "])\n",
    "\n",
    "Final_model.compile(optimizer = RMSprop(learning_rate=0.01),\n",
    "              loss = \"binary_crossentropy\",\n",
    "              metrics = [\"accuracy\"])\n",
    "\n",
    "history = Final_model.fit(partial_x_train,\n",
    "                      partial_y_train,\n",
    "                      epochs = 4,\n",
    "                      batch_size = 512,\n",
    "                      validation_data = (x_val,y_val))"
   ]
  },
  {
   "cell_type": "code",
   "execution_count": 44,
   "id": "6c0a74ad",
   "metadata": {},
   "outputs": [
    {
     "data": {
      "text/plain": [
       "dict_keys(['loss', 'accuracy', 'val_loss', 'val_accuracy'])"
      ]
     },
     "execution_count": 44,
     "metadata": {},
     "output_type": "execute_result"
    }
   ],
   "source": [
    "history_dict = history.history\n",
    "history_dict.keys()"
   ]
  },
  {
   "cell_type": "code",
   "execution_count": 45,
   "id": "2665c4b4",
   "metadata": {},
   "outputs": [
    {
     "data": {
      "image/png": "[encoded data removed]",
      "text/plain": [
       "<Figure size 432x288 with 1 Axes>"
      ]
     },
     "metadata": {
      "needs_background": "light"
     },
     "output_type": "display_data"
    }
   ],
   "source": [
    "import matplotlib.pyplot as plt\n",
    "loss_values = history_dict[\"loss\"]\n",
    "val_loss_values = history_dict[\"val_loss\"]\n",
    "epochs = range(1, len(loss_values) + 1)\n",
    "plt.plot(epochs, loss_values, \"bo\", label=\"Training loss\")\n",
    "plt.plot(epochs, val_loss_values, \"b\", label=\"Validation loss\")\n",
    "plt.title(\"Training and validation loss\")\n",
    "plt.xlabel(\"Epochs\")\n",
    "plt.ylabel(\"Loss\")\n",
    "plt.legend()\n",
    "plt.show()"
   ]
  },
  {
   "cell_type": "code",
   "execution_count": 46,
   "id": "a21f201c",
   "metadata": {},
   "outputs": [
    {
     "name": "stdout",
     "output_type": "stream",
     "text": [
      "Epoch 1/4\n",
      "49/49 [==============================] - 1s 10ms/step - loss: 0.4623 - accuracy: 0.7878\n",
      "Epoch 2/4\n",
      "49/49 [==============================] - 1s 11ms/step - loss: 0.2505 - accuracy: 0.8949\n",
      "Epoch 3/4\n",
      "49/49 [==============================] - 1s 11ms/step - loss: 0.1843 - accuracy: 0.9254\n",
      "Epoch 4/4\n",
      "49/49 [==============================] - 1s 11ms/step - loss: 0.1472 - accuracy: 0.9372\n",
      "782/782 [==============================] - 1s 1ms/step - loss: 0.3850 - accuracy: 0.8768\n"
     ]
    }
   ],
   "source": [
    "from tensorflow.keras.optimizers import RMSprop\n",
    "\n",
    "from tensorflow import keras\n",
    "from tensorflow.keras import layers\n",
    "Final_model = keras.Sequential([\n",
    "    layers.Dense(16, activation = 'relu'),\n",
    "    layers.Dense(16, activation = 'relu'),\n",
    "    layers.Dense(16, activation = 'relu'),\n",
    "    layers.Dense(1, activation = 'sigmoid')\n",
    "])\n",
    "\n",
    "Final_model.compile(optimizer = RMSprop(learning_rate=0.01),\n",
    "              loss = \"binary_crossentropy\",\n",
    "              metrics = [\"accuracy\"])\n",
    "\n",
    "Final_model.fit(x_train, y_train, epochs=4, batch_size=512)\n",
    "results = Final_model.evaluate(x_test, y_test)"
   ]
  },
  {
   "cell_type": "code",
   "execution_count": 47,
   "id": "fc13f514",
   "metadata": {},
   "outputs": [
    {
     "data": {
      "text/plain": [
       "[0.38504648208618164, 0.876800000667572]"
      ]
     },
     "execution_count": 47,
     "metadata": {},
     "output_type": "execute_result"
    }
   ],
   "source": [
    "results"
   ]
  },
  {
   "cell_type": "markdown",
   "id": "f0768668",
   "metadata": {},
   "source": [
    "### FinalModel Testing accuracy is 87.68"
   ]
  }
 ],
 "metadata": {
  "kernelspec": {
   "display_name": "Python 3 (ipykernel)",
   "language": "python",
   "name": "python3"
  },
  "language_info": {
   "codemirror_mode": {
    "name": "ipython",
    "version": 3
   },
   "file_extension": ".py",
   "mimetype": "text/x-python",
   "name": "python",
   "nbconvert_exporter": "python",
   "pygments_lexer": "ipython3",
   "version": "3.9.7"
  }
 },
 "nbformat": 4,
 "nbformat_minor": 5
}
